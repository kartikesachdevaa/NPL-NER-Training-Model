{
 "cells": [
  {
   "cell_type": "code",
   "execution_count": 12,
   "id": "a4d459ea-cec0-4610-83c1-49960c11f1aa",
   "metadata": {
    "scrolled": true
   },
   "outputs": [
    {
     "name": "stdout",
     "output_type": "stream",
     "text": [
      "Requirement already satisfied: pandas in /opt/anaconda3/lib/python3.11/site-packages (2.1.4)\n",
      "Requirement already satisfied: numpy<2,>=1.23.2 in /opt/anaconda3/lib/python3.11/site-packages (from pandas) (1.26.4)\n",
      "Requirement already satisfied: python-dateutil>=2.8.2 in /opt/anaconda3/lib/python3.11/site-packages (from pandas) (2.8.2)\n",
      "Requirement already satisfied: pytz>=2020.1 in /opt/anaconda3/lib/python3.11/site-packages (from pandas) (2023.3.post1)\n",
      "Requirement already satisfied: tzdata>=2022.1 in /opt/anaconda3/lib/python3.11/site-packages (from pandas) (2023.3)\n",
      "Requirement already satisfied: six>=1.5 in /opt/anaconda3/lib/python3.11/site-packages (from python-dateutil>=2.8.2->pandas) (1.16.0)\n",
      "Requirement already satisfied: xlrd in /opt/anaconda3/lib/python3.11/site-packages (2.0.1)\n",
      "Requirement already satisfied: pandas in /opt/anaconda3/lib/python3.11/site-packages (2.1.4)\n",
      "Requirement already satisfied: openpyxl in /opt/anaconda3/lib/python3.11/site-packages (3.0.10)\n",
      "Requirement already satisfied: numpy<2,>=1.23.2 in /opt/anaconda3/lib/python3.11/site-packages (from pandas) (1.26.4)\n",
      "Requirement already satisfied: python-dateutil>=2.8.2 in /opt/anaconda3/lib/python3.11/site-packages (from pandas) (2.8.2)\n",
      "Requirement already satisfied: pytz>=2020.1 in /opt/anaconda3/lib/python3.11/site-packages (from pandas) (2023.3.post1)\n",
      "Requirement already satisfied: tzdata>=2022.1 in /opt/anaconda3/lib/python3.11/site-packages (from pandas) (2023.3)\n",
      "Requirement already satisfied: et_xmlfile in /opt/anaconda3/lib/python3.11/site-packages (from openpyxl) (1.1.0)\n",
      "Requirement already satisfied: six>=1.5 in /opt/anaconda3/lib/python3.11/site-packages (from python-dateutil>=2.8.2->pandas) (1.16.0)\n"
     ]
    }
   ],
   "source": [
    "!pip install pandas\n",
    "!pip install xlrd\n",
    "!pip install pandas openpyxl"
   ]
  },
  {
   "cell_type": "code",
   "execution_count": 3,
   "id": "5f1642e6-3de5-44aa-8efc-d66bdcd6136f",
   "metadata": {},
   "outputs": [
    {
     "name": "stdout",
     "output_type": "stream",
     "text": [
      "0                        Administration-Other\n",
      "1       Employee Health and Safety Management\n",
      "2                      Front Office Executive\n",
      "3                        Front Office Manager\n",
      "4                       Head - Administration\n",
      "                        ...                  \n",
      "1598                         UI / UX Designer\n",
      "1599                    User Research Manager\n",
      "1600                             UX Architect\n",
      "1601                        UX Design Manager\n",
      "1602                                  UX Head\n",
      "Name: L3, Length: 1603, dtype: object\n"
     ]
    }
   ],
   "source": [
    "import pandas as pd\n",
    "import re\n",
    "df = pd.read_excel('Tags.xlsx')\n",
    "jt_column = df['L3']\n",
    "print(jt_column)\n",
    "\n",
    "def search_exact_match(df, search_list, jt_column):\n",
    "    search_list = ['java developer', 'java', 'spring boot', 'hibernate', 'angular', 'sql']\n",
    "    \n",
    "\n"
   ]
  },
  {
   "cell_type": "code",
   "execution_count": 1,
   "id": "9a152b45-fbe4-4bbd-9080-f4a69342b62e",
   "metadata": {},
   "outputs": [
    {
     "ename": "NameError",
     "evalue": "name 'excel_file' is not defined",
     "output_type": "error",
     "traceback": [
      "\u001b[0;31m---------------------------------------------------------------------------\u001b[0m",
      "\u001b[0;31mNameError\u001b[0m                                 Traceback (most recent call last)",
      "Cell \u001b[0;32mIn[1], line 3\u001b[0m\n\u001b[1;32m      1\u001b[0m \u001b[38;5;28;01mimport\u001b[39;00m \u001b[38;5;21;01mpandas\u001b[39;00m \u001b[38;5;28;01mas\u001b[39;00m \u001b[38;5;21;01mpd\u001b[39;00m\n\u001b[0;32m----> 3\u001b[0m df \u001b[38;5;241m=\u001b[39m pd\u001b[38;5;241m.\u001b[39mread_excel(excel_file, engine\u001b[38;5;241m=\u001b[39m\u001b[38;5;124m'\u001b[39m\u001b[38;5;124mopenpyxl\u001b[39m\u001b[38;5;124m'\u001b[39m)\n\u001b[1;32m      4\u001b[0m \u001b[38;5;28;01mdef\u001b[39;00m \u001b[38;5;21mexact_matching\u001b[39m(excel_file, search_list, column_name):\n\u001b[1;32m      6\u001b[0m     l3_values_tmp \u001b[38;5;241m=\u001b[39m df[column_name]\u001b[38;5;241m.\u001b[39mastype(\u001b[38;5;28mstr\u001b[39m)\u001b[38;5;241m.\u001b[39mtolist()\n",
      "\u001b[0;31mNameError\u001b[0m: name 'excel_file' is not defined"
     ]
    }
   ],
   "source": [
    "import pandas as pd\n",
    "\n",
    "df = pd.read_excel(excel_file, engine='openpyxl')\n",
    "def exact_matching(excel_file, search_list, column_name):\n",
    "    \n",
    "    l3_values_tmp = df[column_name].astype(str).tolist()\n",
    "    l3_values =[]\n",
    "    for l in l3_values_tmp:\n",
    "        l3_values.append(l.lower())\n",
    "    results = []\n",
    "    \n",
    "    for item in search_list:\n",
    "        if item.lower() in l3_values:\n",
    "            label = 'JT'\n",
    "            results.append(f\"exact: '{item}', label: {label}\")\n",
    "        else:\n",
    "            label = 'not_JT'\n",
    "            results.append(f\"exact: '{item}', label: {label}\")\n",
    "\n",
    "    for result in results:\n",
    "        print(result)\n",
    "\n"
   ]
  },
  {
   "cell_type": "code",
   "execution_count": 106,
   "id": "b50394f7-17ca-4bf9-84e6-af9d09a40951",
   "metadata": {},
   "outputs": [
    {
     "name": "stdout",
     "output_type": "stream",
     "text": [
      "exact: 'email support', label: JT\n",
      "exact: 'automation architect', label: JT\n",
      "exact: 'front end developer', label: JT\n",
      "exact: 'pharma', label: not_JT\n",
      "exact: 'data entry', label: JT\n"
     ]
    }
   ],
   "source": [
    "excel_file = 'Tags.xlsx'\n",
    "search_list = ['email support', 'automation architect', 'front end developer', 'pharma', 'data entry']\n",
    "column_name = 'L3'\n",
    "\n",
    "exact_matching(excel_file, search_list, column_name)\n"
   ]
  },
  {
   "cell_type": "code",
   "execution_count": 2,
   "id": "8ca4506e-8d5c-467d-8e1b-e90d7da2e652",
   "metadata": {},
   "outputs": [],
   "source": [
    "import pandas as pd\n",
    "\n",
    "def exact_matching(excel_file, search_list, column_name):\n",
    "    # Load the DataFrame\n",
    "    df = pd.read_excel(excel_file, engine='openpyxl')\n",
    "    \n",
    "    # Convert column values to strings\n",
    "    l3_values = df[column_name].astype(str).tolist()\n",
    "    \n",
    "    # Process each item in search_list\n",
    "    results = []\n",
    "    for item in search_list:\n",
    "        item_lower = item.lower()\n",
    "        found = False\n",
    "        for text in l3_values:\n",
    "            text_lower = text.lower()\n",
    "            start_index = text_lower.find(item_lower)\n",
    "            if start_index != -1:\n",
    "                end_index = start_index + len(item_lower) - 1\n",
    "                char_loc = f\"char_loc: ({start_index}-{end_index})\"\n",
    "                results.append(f\"exact: '{item}', label: JT, {char_loc}\")\n",
    "                found = True\n",
    "                break\n",
    "        if not found:\n",
    "            char_loc = 'char_loc: Not found'\n",
    "            results.append(f\"exact: '{item}', label: not_JT, {char_loc}\")\n",
    "\n",
    "    # Print the results\n",
    "    for result in results:\n",
    "        print(result)"
   ]
  },
  {
   "cell_type": "code",
   "execution_count": 3,
   "id": "28b28414-b247-4aa1-b261-ef6625aeac07",
   "metadata": {},
   "outputs": [
    {
     "name": "stdout",
     "output_type": "stream",
     "text": [
      "exact: 'email support', label: JT, char_loc: (0-12)\n",
      "exact: 'automation architect', label: JT, char_loc: (0-19)\n",
      "exact: 'front end developer', label: JT, char_loc: (0-18)\n",
      "exact: 'pharma', label: JT, char_loc: (0-5)\n",
      "exact: 'data entry', label: JT, char_loc: (0-9)\n"
     ]
    }
   ],
   "source": [
    "excel_file = 'Tags.xlsx'\n",
    "search_list = ['email support', 'automation architect', 'front end developer', 'pharma', 'data entry']\n",
    "column_name = 'L3'\n",
    "exact_matching(excel_file, search_list, column_name)\n"
   ]
  }
 ],
 "metadata": {
  "kernelspec": {
   "display_name": "Python 3 (ipykernel)",
   "language": "python",
   "name": "python3"
  },
  "language_info": {
   "codemirror_mode": {
    "name": "ipython",
    "version": 3
   },
   "file_extension": ".py",
   "mimetype": "text/x-python",
   "name": "python",
   "nbconvert_exporter": "python",
   "pygments_lexer": "ipython3",
   "version": "3.11.7"
  }
 },
 "nbformat": 4,
 "nbformat_minor": 5
}
